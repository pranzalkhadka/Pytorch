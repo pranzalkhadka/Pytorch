{
  "nbformat": 4,
  "nbformat_minor": 0,
  "metadata": {
    "colab": {
      "provenance": []
    },
    "kernelspec": {
      "name": "python3",
      "display_name": "Python 3"
    },
    "language_info": {
      "name": "python"
    }
  },
  "cells": [
    {
      "cell_type": "code",
      "execution_count": 1,
      "metadata": {
        "id": "p-3EM1mshoFl"
      },
      "outputs": [],
      "source": [
        "import torch\n",
        "import numpy as np"
      ]
    },
    {
      "cell_type": "code",
      "source": [
        "t = torch.tensor([[1,2,3,4],[5,6,7,8],[9,10,11,12]],dtype=torch.float32)"
      ],
      "metadata": {
        "id": "bMVVihS_hqUX"
      },
      "execution_count": null,
      "outputs": []
    },
    {
      "cell_type": "code",
      "source": [
        "t.shape"
      ],
      "metadata": {
        "colab": {
          "base_uri": "https://localhost:8080/"
        },
        "id": "qPJwna7OiGna",
        "outputId": "1056e932-8b07-407b-a6e4-4642c82568dd"
      },
      "execution_count": null,
      "outputs": [
        {
          "output_type": "execute_result",
          "data": {
            "text/plain": [
              "torch.Size([3, 4])"
            ]
          },
          "metadata": {},
          "execution_count": 5
        }
      ]
    },
    {
      "cell_type": "code",
      "source": [
        "rank = len(t.shape)\n",
        "print(f\"rank of t :{rank}\")"
      ],
      "metadata": {
        "colab": {
          "base_uri": "https://localhost:8080/"
        },
        "id": "MlRJkyBfiPRz",
        "outputId": "5507bb61-626c-40e0-80ba-41a2b694eb5f"
      },
      "execution_count": null,
      "outputs": [
        {
          "output_type": "stream",
          "name": "stdout",
          "text": [
            "rank of t :2\n"
          ]
        }
      ]
    },
    {
      "cell_type": "code",
      "source": [
        "t.numel()"
      ],
      "metadata": {
        "colab": {
          "base_uri": "https://localhost:8080/"
        },
        "id": "PYOKhBYliSFZ",
        "outputId": "948a170e-5931-4024-bc75-e0eaf9c625bb"
      },
      "execution_count": null,
      "outputs": [
        {
          "output_type": "execute_result",
          "data": {
            "text/plain": [
              "12"
            ]
          },
          "metadata": {},
          "execution_count": 9
        }
      ]
    },
    {
      "cell_type": "markdown",
      "source": [
        "numel means number of elements in the tensor"
      ],
      "metadata": {
        "id": "hlKUytdJiuon"
      }
    },
    {
      "cell_type": "code",
      "source": [
        "t.reshape(4,3)"
      ],
      "metadata": {
        "colab": {
          "base_uri": "https://localhost:8080/"
        },
        "id": "-57bng6KitUt",
        "outputId": "2e75ab9b-2a86-405d-f0e2-66176ab3a505"
      },
      "execution_count": null,
      "outputs": [
        {
          "output_type": "execute_result",
          "data": {
            "text/plain": [
              "tensor([[ 1.,  2.,  3.],\n",
              "        [ 4.,  5.,  6.],\n",
              "        [ 7.,  8.,  9.],\n",
              "        [10., 11., 12.]])"
            ]
          },
          "metadata": {},
          "execution_count": 10
        }
      ]
    },
    {
      "cell_type": "code",
      "source": [
        "t.reshape(1,12)"
      ],
      "metadata": {
        "colab": {
          "base_uri": "https://localhost:8080/"
        },
        "id": "_Vjotd4JjQbf",
        "outputId": "a30bb4b3-d02b-4b64-975c-3e6ea2c5f4ec"
      },
      "execution_count": null,
      "outputs": [
        {
          "output_type": "execute_result",
          "data": {
            "text/plain": [
              "tensor([[ 1.,  2.,  3.,  4.,  5.,  6.,  7.,  8.,  9., 10., 11., 12.]])"
            ]
          },
          "metadata": {},
          "execution_count": 11
        }
      ]
    },
    {
      "cell_type": "code",
      "source": [
        "t.reshape(2,2,3)"
      ],
      "metadata": {
        "colab": {
          "base_uri": "https://localhost:8080/"
        },
        "id": "gCrWZz4pjSlW",
        "outputId": "c702d3d7-144a-4be4-bb03-e1f45d132b35"
      },
      "execution_count": null,
      "outputs": [
        {
          "output_type": "execute_result",
          "data": {
            "text/plain": [
              "tensor([[[ 1.,  2.,  3.],\n",
              "         [ 4.,  5.,  6.]],\n",
              "\n",
              "        [[ 7.,  8.,  9.],\n",
              "         [10., 11., 12.]]])"
            ]
          },
          "metadata": {},
          "execution_count": 12
        }
      ]
    },
    {
      "cell_type": "code",
      "source": [
        "print(t.reshape(1,12).shape)"
      ],
      "metadata": {
        "colab": {
          "base_uri": "https://localhost:8080/"
        },
        "id": "ouBuxqT8jXCt",
        "outputId": "710c8efb-4fde-42d0-8675-96864b095acd"
      },
      "execution_count": null,
      "outputs": [
        {
          "output_type": "stream",
          "name": "stdout",
          "text": [
            "torch.Size([1, 12])\n"
          ]
        }
      ]
    },
    {
      "cell_type": "code",
      "source": [
        "print(t.reshape(1,12).squeeze().shape)"
      ],
      "metadata": {
        "colab": {
          "base_uri": "https://localhost:8080/"
        },
        "id": "z1OfZgJLjh57",
        "outputId": "df4e5dae-1b8e-4dcf-c9bd-ffed66d2506a"
      },
      "execution_count": null,
      "outputs": [
        {
          "output_type": "stream",
          "name": "stdout",
          "text": [
            "torch.Size([12])\n"
          ]
        }
      ]
    },
    {
      "cell_type": "code",
      "source": [
        "print(t.reshape(1,12).squeeze().unsqueeze(dim=0).shape)"
      ],
      "metadata": {
        "colab": {
          "base_uri": "https://localhost:8080/"
        },
        "id": "EiICy_wijqjH",
        "outputId": "4e87fd16-7129-4695-c472-f975f767c059"
      },
      "execution_count": null,
      "outputs": [
        {
          "output_type": "stream",
          "name": "stdout",
          "text": [
            "torch.Size([1, 12])\n"
          ]
        }
      ]
    },
    {
      "cell_type": "markdown",
      "source": [
        "Squeeze is necessary to flatten layer before passing to neural network"
      ],
      "metadata": {
        "id": "cE0kHbyrktRP"
      }
    },
    {
      "cell_type": "code",
      "source": [
        "def flatten(t):\n",
        "  t=t.reshape(1,-1)\n",
        "  t=t.squeeze()\n",
        "  return t"
      ],
      "metadata": {
        "id": "W1IzYMBRj0Pf"
      },
      "execution_count": null,
      "outputs": []
    },
    {
      "cell_type": "code",
      "source": [
        "flatten(t)"
      ],
      "metadata": {
        "colab": {
          "base_uri": "https://localhost:8080/"
        },
        "id": "T4ODTFjMlAQu",
        "outputId": "509a2ccf-b30d-4e15-8e9b-cc6c2a197511"
      },
      "execution_count": null,
      "outputs": [
        {
          "output_type": "execute_result",
          "data": {
            "text/plain": [
              "tensor([ 1.,  2.,  3.,  4.,  5.,  6.,  7.,  8.,  9., 10., 11., 12.])"
            ]
          },
          "metadata": {},
          "execution_count": 18
        }
      ]
    },
    {
      "cell_type": "markdown",
      "source": [
        "The -1 argument passed to reshape ensures that there are enough room for all elements after reshaping"
      ],
      "metadata": {
        "id": "fNFYpB-JlSJR"
      }
    },
    {
      "cell_type": "code",
      "source": [
        "t1=torch.tensor([\n",
        "    [1,1,1,1],\n",
        "    [1,1,1,1],\n",
        "    [1,1,1,1],\n",
        "    [1,1,1,1]\n",
        "])\n",
        "t2=torch.tensor([\n",
        "    [2,2,2,2],\n",
        "    [2,2,2,2],\n",
        "    [2,2,2,2],\n",
        "    [2,2,2,2]\n",
        "])\n",
        "t3=torch.tensor([\n",
        "    [3,3,3,3],\n",
        "    [3,3,3,3],\n",
        "    [3,3,3,3],\n",
        "    [3,3,3,3]\n",
        "])"
      ],
      "metadata": {
        "id": "14LwvAoKlBvv"
      },
      "execution_count": null,
      "outputs": []
    },
    {
      "cell_type": "markdown",
      "source": [
        "Let us consider t1,t2,t3 are 3 images each of shape 4*4"
      ],
      "metadata": {
        "id": "EpV7ZZGcomFv"
      }
    },
    {
      "cell_type": "markdown",
      "source": [
        "Now we need to create a batch of these three images to pass to the network . A batch is also a tensor so we need to combine our tensors to create that  batch tensor "
      ],
      "metadata": {
        "id": "meuZIohNo8El"
      }
    },
    {
      "cell_type": "code",
      "source": [
        "t =torch.stack((t1,t2,t3))\n",
        "print(t)\n",
        "print(t.shape)"
      ],
      "metadata": {
        "colab": {
          "base_uri": "https://localhost:8080/"
        },
        "id": "L79-x6SKob7k",
        "outputId": "d8d51142-4fa5-419b-cdd0-aaf431a410d2"
      },
      "execution_count": null,
      "outputs": [
        {
          "output_type": "stream",
          "name": "stdout",
          "text": [
            "tensor([[[1, 1, 1, 1],\n",
            "         [1, 1, 1, 1],\n",
            "         [1, 1, 1, 1],\n",
            "         [1, 1, 1, 1]],\n",
            "\n",
            "        [[2, 2, 2, 2],\n",
            "         [2, 2, 2, 2],\n",
            "         [2, 2, 2, 2],\n",
            "         [2, 2, 2, 2]],\n",
            "\n",
            "        [[3, 3, 3, 3],\n",
            "         [3, 3, 3, 3],\n",
            "         [3, 3, 3, 3],\n",
            "         [3, 3, 3, 3]]])\n",
            "torch.Size([3, 4, 4])\n"
          ]
        }
      ]
    },
    {
      "cell_type": "markdown",
      "source": [
        "In torch.size([3,4,4]), 3 indicates that there are 3 images in the batch and 4,4 indicates that each image is of size 4*4"
      ],
      "metadata": {
        "id": "ifadJR7rpkwL"
      }
    },
    {
      "cell_type": "markdown",
      "source": [
        "The rank of this tensor is 3 since we need 3 different values to access a particular element"
      ],
      "metadata": {
        "id": "IEt0hqKPp9Z9"
      }
    },
    {
      "cell_type": "code",
      "source": [
        "t = t.reshape(3,1,4,4)\n",
        "print(t)"
      ],
      "metadata": {
        "colab": {
          "base_uri": "https://localhost:8080/"
        },
        "id": "5tQExrh2pbHF",
        "outputId": "a789bb95-ad01-4055-9025-7ff917d4ca7e"
      },
      "execution_count": null,
      "outputs": [
        {
          "output_type": "stream",
          "name": "stdout",
          "text": [
            "tensor([[[[1, 1, 1, 1],\n",
            "          [1, 1, 1, 1],\n",
            "          [1, 1, 1, 1],\n",
            "          [1, 1, 1, 1]]],\n",
            "\n",
            "\n",
            "        [[[2, 2, 2, 2],\n",
            "          [2, 2, 2, 2],\n",
            "          [2, 2, 2, 2],\n",
            "          [2, 2, 2, 2]]],\n",
            "\n",
            "\n",
            "        [[[3, 3, 3, 3],\n",
            "          [3, 3, 3, 3],\n",
            "          [3, 3, 3, 3],\n",
            "          [3, 3, 3, 3]]]])\n"
          ]
        }
      ]
    },
    {
      "cell_type": "markdown",
      "source": [
        "The additional 1 is to indicate that the color channel of image is greyscale . The total number of elements in the tensor doesnt get affected by that 1 since 3 * 4 * 4 * 1 is still 12 ."
      ],
      "metadata": {
        "id": "OHDpAzXhqWJ4"
      }
    },
    {
      "cell_type": "markdown",
      "source": [
        "So finally the shape of tensor for CNN flatten operation is (batch_size,color_channel,height,width)"
      ],
      "metadata": {
        "id": "LmrtOL1lq8jg"
      }
    },
    {
      "cell_type": "code",
      "source": [
        "print(f\"First Image : {t[0]}\")"
      ],
      "metadata": {
        "colab": {
          "base_uri": "https://localhost:8080/"
        },
        "id": "d6SmCnD6qU4X",
        "outputId": "ab432416-bf4b-48cf-a68f-151682634604"
      },
      "execution_count": null,
      "outputs": [
        {
          "output_type": "stream",
          "name": "stdout",
          "text": [
            "First Image : tensor([[[1, 1, 1, 1],\n",
            "         [1, 1, 1, 1],\n",
            "         [1, 1, 1, 1],\n",
            "         [1, 1, 1, 1]]])\n"
          ]
        }
      ]
    },
    {
      "cell_type": "code",
      "source": [
        "print(f\"First color channel in first Image : {t[0][0]}\")"
      ],
      "metadata": {
        "colab": {
          "base_uri": "https://localhost:8080/"
        },
        "id": "ks4Qj7yErce5",
        "outputId": "e2611a49-3aaa-4d4c-9d95-d15182c3f6b0"
      },
      "execution_count": null,
      "outputs": [
        {
          "output_type": "stream",
          "name": "stdout",
          "text": [
            "First color channel in first Image : tensor([[1, 1, 1, 1],\n",
            "        [1, 1, 1, 1],\n",
            "        [1, 1, 1, 1],\n",
            "        [1, 1, 1, 1]])\n"
          ]
        }
      ]
    },
    {
      "cell_type": "code",
      "source": [
        "print(f\"First row of pixel in first color channel of first image : {t[0][0][0]}\")"
      ],
      "metadata": {
        "colab": {
          "base_uri": "https://localhost:8080/"
        },
        "id": "V0StEOL6rlTM",
        "outputId": "52c47afa-a213-4a9d-c195-d78d3dab9608"
      },
      "execution_count": null,
      "outputs": [
        {
          "output_type": "stream",
          "name": "stdout",
          "text": [
            "First row of pixel in first color channel of first image : tensor([1, 1, 1, 1])\n"
          ]
        }
      ]
    },
    {
      "cell_type": "code",
      "source": [
        "print(f\"First pixel value in first row of pixel in first color channel of first image : {t[0][0][0][0]}\")"
      ],
      "metadata": {
        "colab": {
          "base_uri": "https://localhost:8080/"
        },
        "id": "s4bBg3dBrqEw",
        "outputId": "8b1f931c-5b7f-4b64-a52b-9aff413b68a4"
      },
      "execution_count": null,
      "outputs": [
        {
          "output_type": "stream",
          "name": "stdout",
          "text": [
            "First pixel value in first row of pixel in first color channel of first image : 1\n"
          ]
        }
      ]
    },
    {
      "cell_type": "markdown",
      "source": [
        "Now we have to flatten the tensor"
      ],
      "metadata": {
        "id": "0pk4ayyTsjuT"
      }
    },
    {
      "cell_type": "code",
      "source": [
        "t.flatten()"
      ],
      "metadata": {
        "colab": {
          "base_uri": "https://localhost:8080/"
        },
        "id": "2--iM3EAsI2s",
        "outputId": "a7a2f408-48ce-4d56-eaf2-af93a5e49357"
      },
      "execution_count": null,
      "outputs": [
        {
          "output_type": "execute_result",
          "data": {
            "text/plain": [
              "tensor([1, 1, 1, 1, 1, 1, 1, 1, 1, 1, 1, 1, 1, 1, 1, 1, 2, 2, 2, 2, 2, 2, 2, 2,\n",
              "        2, 2, 2, 2, 2, 2, 2, 2, 3, 3, 3, 3, 3, 3, 3, 3, 3, 3, 3, 3, 3, 3, 3, 3])"
            ]
          },
          "metadata": {},
          "execution_count": 30
        }
      ]
    },
    {
      "cell_type": "markdown",
      "source": [
        "If we flatten directly like this ,we are going to mix all images together like how we mixed t1,t2 and t3 since they are in the same batch .We do not want these to happen ."
      ],
      "metadata": {
        "id": "JWzacG19spOt"
      }
    },
    {
      "cell_type": "markdown",
      "source": [
        "What we need to do is flatten only the color channel , height and width ."
      ],
      "metadata": {
        "id": "qnDlaLENtFDw"
      }
    },
    {
      "cell_type": "code",
      "source": [
        "t.flatten(start_dim=1)"
      ],
      "metadata": {
        "colab": {
          "base_uri": "https://localhost:8080/"
        },
        "id": "UoEwN7RxsoTw",
        "outputId": "c83b7690-11e1-4976-9050-4a4e078a7dff"
      },
      "execution_count": null,
      "outputs": [
        {
          "output_type": "execute_result",
          "data": {
            "text/plain": [
              "tensor([[1, 1, 1, 1, 1, 1, 1, 1, 1, 1, 1, 1, 1, 1, 1, 1],\n",
              "        [2, 2, 2, 2, 2, 2, 2, 2, 2, 2, 2, 2, 2, 2, 2, 2],\n",
              "        [3, 3, 3, 3, 3, 3, 3, 3, 3, 3, 3, 3, 3, 3, 3, 3]])"
            ]
          },
          "metadata": {},
          "execution_count": 31
        }
      ]
    },
    {
      "cell_type": "code",
      "source": [
        "t.flatten(start_dim=1).shape"
      ],
      "metadata": {
        "id": "GbkqX5qStPsk",
        "outputId": "19f5dadf-76ea-4eea-b6ff-dafad47ea9ff",
        "colab": {
          "base_uri": "https://localhost:8080/"
        }
      },
      "execution_count": null,
      "outputs": [
        {
          "output_type": "execute_result",
          "data": {
            "text/plain": [
              "torch.Size([3, 16])"
            ]
          },
          "metadata": {},
          "execution_count": 32
        }
      ]
    },
    {
      "cell_type": "code",
      "source": [
        "t1 = torch.tensor([\n",
        "    [1,2],\n",
        "    [3,4],\n",
        "],dtype=torch.float32)\n",
        "\n",
        "t2 = torch.tensor([\n",
        "    [5,6]\n",
        "],dtype=torch.float32)"
      ],
      "metadata": {
        "id": "iFIoq8BztT2M"
      },
      "execution_count": 2,
      "outputs": []
    },
    {
      "cell_type": "code",
      "source": [
        "t1+t2"
      ],
      "metadata": {
        "colab": {
          "base_uri": "https://localhost:8080/"
        },
        "id": "xxPjz43XmAcr",
        "outputId": "11d3895d-d327-47ee-b84e-dc6ed0df06a2"
      },
      "execution_count": 3,
      "outputs": [
        {
          "output_type": "execute_result",
          "data": {
            "text/plain": [
              "tensor([[ 6.,  8.],\n",
              "        [ 8., 10.]])"
            ]
          },
          "metadata": {},
          "execution_count": 3
        }
      ]
    },
    {
      "cell_type": "markdown",
      "source": [
        "Eeven though they have different shape , the operation is possible due to broadcasting"
      ],
      "metadata": {
        "id": "R9wOQaH-mJQs"
      }
    },
    {
      "cell_type": "code",
      "source": [
        "np.broadcast_to(t2.numpy(),t1.shape)"
      ],
      "metadata": {
        "colab": {
          "base_uri": "https://localhost:8080/"
        },
        "id": "1dBTVe9ImGr1",
        "outputId": "eb9ca44c-740a-4832-811e-c6684510278d"
      },
      "execution_count": 4,
      "outputs": [
        {
          "output_type": "execute_result",
          "data": {
            "text/plain": [
              "array([[5., 6.],\n",
              "       [5., 6.]], dtype=float32)"
            ]
          },
          "metadata": {},
          "execution_count": 4
        }
      ]
    },
    {
      "cell_type": "code",
      "source": [
        "t= torch.tensor([\n",
        "    [1,2,3],\n",
        "    [1,1,3],\n",
        "    [2,3,4]\n",
        "])"
      ],
      "metadata": {
        "id": "PlXEIofwmaMr"
      },
      "execution_count": 5,
      "outputs": []
    },
    {
      "cell_type": "code",
      "source": [
        "t.sum()"
      ],
      "metadata": {
        "colab": {
          "base_uri": "https://localhost:8080/"
        },
        "id": "i84NToX4pnT2",
        "outputId": "239d2094-2eee-47ea-9540-91d6c3f3b639"
      },
      "execution_count": 6,
      "outputs": [
        {
          "output_type": "execute_result",
          "data": {
            "text/plain": [
              "tensor(20)"
            ]
          },
          "metadata": {},
          "execution_count": 6
        }
      ]
    },
    {
      "cell_type": "code",
      "source": [
        "t.numel()"
      ],
      "metadata": {
        "colab": {
          "base_uri": "https://localhost:8080/"
        },
        "id": "IU_qZ8wepoyx",
        "outputId": "f257b539-b3cf-4320-e1a0-b7cee67acefd"
      },
      "execution_count": 7,
      "outputs": [
        {
          "output_type": "execute_result",
          "data": {
            "text/plain": [
              "9"
            ]
          },
          "metadata": {},
          "execution_count": 7
        }
      ]
    },
    {
      "cell_type": "code",
      "source": [
        "t.sum().numel()"
      ],
      "metadata": {
        "colab": {
          "base_uri": "https://localhost:8080/"
        },
        "id": "PMKoXns5pqTR",
        "outputId": "63ee4982-9163-41c0-9558-4ec51f4e7578"
      },
      "execution_count": 8,
      "outputs": [
        {
          "output_type": "execute_result",
          "data": {
            "text/plain": [
              "1"
            ]
          },
          "metadata": {},
          "execution_count": 8
        }
      ]
    },
    {
      "cell_type": "code",
      "source": [
        "t.sum(dim=0)"
      ],
      "metadata": {
        "colab": {
          "base_uri": "https://localhost:8080/"
        },
        "id": "w0VjcjqJptcV",
        "outputId": "523ce378-d235-4aca-f789-001d6bb40ef5"
      },
      "execution_count": 9,
      "outputs": [
        {
          "output_type": "execute_result",
          "data": {
            "text/plain": [
              "tensor([ 4,  6, 10])"
            ]
          },
          "metadata": {},
          "execution_count": 9
        }
      ]
    },
    {
      "cell_type": "code",
      "source": [
        "t.sum(dim=1)"
      ],
      "metadata": {
        "colab": {
          "base_uri": "https://localhost:8080/"
        },
        "id": "A4GiVOchqMjO",
        "outputId": "fa669982-4004-47f5-8b80-431f986dea37"
      },
      "execution_count": 10,
      "outputs": [
        {
          "output_type": "execute_result",
          "data": {
            "text/plain": [
              "tensor([6, 5, 9])"
            ]
          },
          "metadata": {},
          "execution_count": 10
        }
      ]
    },
    {
      "cell_type": "code",
      "source": [
        "t= torch.tensor([\n",
        "    [1,2,3,5],\n",
        "    [1,0,65,4]\n",
        "])"
      ],
      "metadata": {
        "id": "LftSTs3aqORS"
      },
      "execution_count": 11,
      "outputs": []
    },
    {
      "cell_type": "code",
      "source": [
        "t.max()"
      ],
      "metadata": {
        "colab": {
          "base_uri": "https://localhost:8080/"
        },
        "id": "ik6fGimmrSFT",
        "outputId": "e5749788-1a5b-4f7f-a26a-3e075804eafd"
      },
      "execution_count": 12,
      "outputs": [
        {
          "output_type": "execute_result",
          "data": {
            "text/plain": [
              "tensor(65)"
            ]
          },
          "metadata": {},
          "execution_count": 12
        }
      ]
    },
    {
      "cell_type": "code",
      "source": [
        "t.argmax()"
      ],
      "metadata": {
        "colab": {
          "base_uri": "https://localhost:8080/"
        },
        "id": "TN5MSMQtrT-e",
        "outputId": "62595f03-ef47-448e-e4d6-366775755aa1"
      },
      "execution_count": 13,
      "outputs": [
        {
          "output_type": "execute_result",
          "data": {
            "text/plain": [
              "tensor(6)"
            ]
          },
          "metadata": {},
          "execution_count": 13
        }
      ]
    },
    {
      "cell_type": "markdown",
      "source": [
        "Argmax gives the index of max element in the tensor"
      ],
      "metadata": {
        "id": "k8UK86B9rYAm"
      }
    },
    {
      "cell_type": "code",
      "source": [
        "t.max(dim=0)"
      ],
      "metadata": {
        "colab": {
          "base_uri": "https://localhost:8080/"
        },
        "id": "xLaJBKOrrWfK",
        "outputId": "001fa1d3-78c7-4c60-934a-49f80d284c8a"
      },
      "execution_count": 14,
      "outputs": [
        {
          "output_type": "execute_result",
          "data": {
            "text/plain": [
              "torch.return_types.max(\n",
              "values=tensor([ 1,  2, 65,  5]),\n",
              "indices=tensor([0, 0, 1, 0]))"
            ]
          },
          "metadata": {},
          "execution_count": 14
        }
      ]
    },
    {
      "cell_type": "markdown",
      "source": [
        "This gives max element from each column and its corresponding index"
      ],
      "metadata": {
        "id": "TDbCAIher_O8"
      }
    },
    {
      "cell_type": "code",
      "source": [
        "t.argmax(dim=0)"
      ],
      "metadata": {
        "colab": {
          "base_uri": "https://localhost:8080/"
        },
        "id": "BBrTmyNrsZL-",
        "outputId": "4ebd8105-22ff-403d-e0cf-7e03a51165ad"
      },
      "execution_count": 16,
      "outputs": [
        {
          "output_type": "execute_result",
          "data": {
            "text/plain": [
              "tensor([0, 0, 1, 0])"
            ]
          },
          "metadata": {},
          "execution_count": 16
        }
      ]
    },
    {
      "cell_type": "code",
      "source": [
        "t.max(dim=1)"
      ],
      "metadata": {
        "colab": {
          "base_uri": "https://localhost:8080/"
        },
        "id": "rpS_CUIJro6E",
        "outputId": "d1c925ef-08b0-4157-af47-6ab699908bdb"
      },
      "execution_count": 15,
      "outputs": [
        {
          "output_type": "execute_result",
          "data": {
            "text/plain": [
              "torch.return_types.max(\n",
              "values=tensor([ 5, 65]),\n",
              "indices=tensor([3, 2]))"
            ]
          },
          "metadata": {},
          "execution_count": 15
        }
      ]
    },
    {
      "cell_type": "markdown",
      "source": [
        "This gives max element from each row and its corresponding index"
      ],
      "metadata": {
        "id": "ThjnPoRMsHZQ"
      }
    },
    {
      "cell_type": "code",
      "source": [
        "t.argmax(dim=1)"
      ],
      "metadata": {
        "colab": {
          "base_uri": "https://localhost:8080/"
        },
        "id": "vRzLHMlyscY-",
        "outputId": "cea7c86a-9734-402c-ffa6-421825fc3eb2"
      },
      "execution_count": 17,
      "outputs": [
        {
          "output_type": "execute_result",
          "data": {
            "text/plain": [
              "tensor([3, 2])"
            ]
          },
          "metadata": {},
          "execution_count": 17
        }
      ]
    },
    {
      "cell_type": "code",
      "source": [
        "t = torch.tensor([\n",
        "    [1,2,3,4],\n",
        "    [4,5,6,7],\n",
        "    [8,9,1,0]\n",
        "],dtype=torch.float32)"
      ],
      "metadata": {
        "id": "dIBLgi-or013"
      },
      "execution_count": 19,
      "outputs": []
    },
    {
      "cell_type": "code",
      "source": [
        "t.mean()"
      ],
      "metadata": {
        "colab": {
          "base_uri": "https://localhost:8080/"
        },
        "id": "gWa6bsdHtGej",
        "outputId": "0a17cb59-f938-4c3f-cee8-3d14bbeb0b1e"
      },
      "execution_count": 20,
      "outputs": [
        {
          "output_type": "execute_result",
          "data": {
            "text/plain": [
              "tensor(4.1667)"
            ]
          },
          "metadata": {},
          "execution_count": 20
        }
      ]
    },
    {
      "cell_type": "markdown",
      "source": [
        "To access this value we can use item()"
      ],
      "metadata": {
        "id": "mOUm2sn-tWIh"
      }
    },
    {
      "cell_type": "code",
      "source": [
        "t.mean().item()"
      ],
      "metadata": {
        "colab": {
          "base_uri": "https://localhost:8080/"
        },
        "id": "IDc-8JkytTh-",
        "outputId": "6b5fadb0-a0e7-446c-b8eb-0b9ecd718320"
      },
      "execution_count": 21,
      "outputs": [
        {
          "output_type": "execute_result",
          "data": {
            "text/plain": [
              "4.166666507720947"
            ]
          },
          "metadata": {},
          "execution_count": 21
        }
      ]
    },
    {
      "cell_type": "code",
      "source": [
        "t.mean(dim=0)"
      ],
      "metadata": {
        "colab": {
          "base_uri": "https://localhost:8080/"
        },
        "id": "6_OppQQAtcJU",
        "outputId": "faf6d1e5-d6f9-41b7-9f17-8f9fad3f113b"
      },
      "execution_count": 22,
      "outputs": [
        {
          "output_type": "execute_result",
          "data": {
            "text/plain": [
              "tensor([4.3333, 5.3333, 3.3333, 3.6667])"
            ]
          },
          "metadata": {},
          "execution_count": 22
        }
      ]
    },
    {
      "cell_type": "markdown",
      "source": [
        "To access this we can use numpy() function"
      ],
      "metadata": {
        "id": "_zKbRnw1tjzG"
      }
    },
    {
      "cell_type": "code",
      "source": [
        "t.mean(dim=0).numpy()"
      ],
      "metadata": {
        "colab": {
          "base_uri": "https://localhost:8080/"
        },
        "id": "8QmV4mDwteN-",
        "outputId": "f30eeddc-2d52-453e-8d2e-edc9f2939442"
      },
      "execution_count": 23,
      "outputs": [
        {
          "output_type": "execute_result",
          "data": {
            "text/plain": [
              "array([4.3333335, 5.3333335, 3.3333333, 3.6666667], dtype=float32)"
            ]
          },
          "metadata": {},
          "execution_count": 23
        }
      ]
    },
    {
      "cell_type": "code",
      "source": [],
      "metadata": {
        "id": "sfdSyWb0tiU8"
      },
      "execution_count": null,
      "outputs": []
    }
  ]
}