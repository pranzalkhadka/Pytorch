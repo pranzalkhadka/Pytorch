{
  "nbformat": 4,
  "nbformat_minor": 0,
  "metadata": {
    "colab": {
      "provenance": []
    },
    "kernelspec": {
      "name": "python3",
      "display_name": "Python 3"
    },
    "language_info": {
      "name": "python"
    }
  },
  "cells": [
    {
      "cell_type": "code",
      "execution_count": 1,
      "metadata": {
        "id": "W6oIYwOWRamb"
      },
      "outputs": [],
      "source": [
        "import torch"
      ]
    },
    {
      "cell_type": "code",
      "source": [
        "x= torch.empty(3)\n",
        "y=torch.empty(2,3)\n",
        "z=torch.empty(2,2,3)"
      ],
      "metadata": {
        "id": "y6_lY9FpRcUC"
      },
      "execution_count": 5,
      "outputs": []
    },
    {
      "cell_type": "code",
      "source": [
        "print(x)\n",
        "print(y)\n",
        "print(z)"
      ],
      "metadata": {
        "colab": {
          "base_uri": "https://localhost:8080/"
        },
        "id": "nCSlN941VsL5",
        "outputId": "43134716-5ddf-4f63-b302-a663e8240281"
      },
      "execution_count": 6,
      "outputs": [
        {
          "output_type": "stream",
          "name": "stdout",
          "text": [
            "tensor([1.4009e-34, 0.0000e+00, 3.3631e-44])\n",
            "tensor([[1.4009e-34, 0.0000e+00, 0.0000e+00],\n",
            "        [0.0000e+00, 0.0000e+00, 0.0000e+00]])\n",
            "tensor([[[1.4009e-34, 0.0000e+00, 0.0000e+00],\n",
            "         [6.9439e-06, 1.4013e-45, 0.0000e+00]],\n",
            "\n",
            "        [[1.3556e-19, 8.6462e+11, 3.2778e+09],\n",
            "         [1.4988e+10, 3.2522e+03, 1.3023e+01]]])\n"
          ]
        }
      ]
    },
    {
      "cell_type": "code",
      "source": [
        "a = torch.ones(2,2)\n",
        "print(a)"
      ],
      "metadata": {
        "colab": {
          "base_uri": "https://localhost:8080/"
        },
        "id": "pIBisaheVtSz",
        "outputId": "ca8d54bb-6dd8-4b73-ebac-6a4e898503e9"
      },
      "execution_count": 8,
      "outputs": [
        {
          "output_type": "stream",
          "name": "stdout",
          "text": [
            "tensor([[1., 1.],\n",
            "        [1., 1.]])\n"
          ]
        }
      ]
    },
    {
      "cell_type": "code",
      "source": [
        "print(a.dtype)"
      ],
      "metadata": {
        "colab": {
          "base_uri": "https://localhost:8080/"
        },
        "id": "f7lqntY-WboZ",
        "outputId": "4c5df64c-f289-49e5-92c9-45d500ea10c6"
      },
      "execution_count": 9,
      "outputs": [
        {
          "output_type": "stream",
          "name": "stdout",
          "text": [
            "torch.float32\n"
          ]
        }
      ]
    },
    {
      "cell_type": "code",
      "source": [
        "x=torch.tensor([1,45,2.5])\n",
        "print(x)"
      ],
      "metadata": {
        "colab": {
          "base_uri": "https://localhost:8080/"
        },
        "id": "rPVJLVhDWljx",
        "outputId": "002799a0-d66b-4188-e178-f8be32015642"
      },
      "execution_count": 10,
      "outputs": [
        {
          "output_type": "stream",
          "name": "stdout",
          "text": [
            "tensor([ 1.0000, 45.0000,  2.5000])\n"
          ]
        }
      ]
    },
    {
      "cell_type": "code",
      "source": [
        "x=torch.rand(2,2)\n",
        "y=torch.rand(2,2)\n",
        "z=x+y\n",
        "print(f\"x:{x}\")\n",
        "print(f\"y:{y}\")\n",
        "print(f\"z:{z}\")"
      ],
      "metadata": {
        "colab": {
          "base_uri": "https://localhost:8080/"
        },
        "id": "FXfGaASSXwQ9",
        "outputId": "4209eb90-e541-44c7-ac60-350e54617851"
      },
      "execution_count": 17,
      "outputs": [
        {
          "output_type": "stream",
          "name": "stdout",
          "text": [
            "x:tensor([[0.1611, 0.2842],\n",
            "        [0.6760, 0.3507]])\n",
            "y:tensor([[0.8973, 0.7845],\n",
            "        [0.7079, 0.3908]])\n",
            "z:tensor([[1.0584, 1.0687],\n",
            "        [1.3839, 0.7415]])\n"
          ]
        }
      ]
    },
    {
      "cell_type": "code",
      "source": [
        "y.add_(x)\n",
        "print(f\"New y:{y}\")"
      ],
      "metadata": {
        "colab": {
          "base_uri": "https://localhost:8080/"
        },
        "id": "vISZ06d5YRXH",
        "outputId": "00ff839e-484f-4b32-ba6c-edfbd317106b"
      },
      "execution_count": 19,
      "outputs": [
        {
          "output_type": "stream",
          "name": "stdout",
          "text": [
            "New y:tensor([[1.2194, 1.3529],\n",
            "        [2.0599, 1.0922]])\n"
          ]
        }
      ]
    },
    {
      "cell_type": "markdown",
      "source": [
        "Every operation with _ at last means inplace in pytorch"
      ],
      "metadata": {
        "id": "fX1fcdHUZHbY"
      }
    },
    {
      "cell_type": "code",
      "source": [
        "x=torch.rand(5,5)\n",
        "y=x[:,:2]\n",
        "z=x[1,3]\n",
        "print(f\"x:{x}\")\n",
        "print(f\"y:{y}\")\n",
        "print(f\"z:{z}\")\n",
        "print(f\"Actual value : {x[1,3]}\")"
      ],
      "metadata": {
        "colab": {
          "base_uri": "https://localhost:8080/"
        },
        "id": "jXXYKzfWZEH4",
        "outputId": "1b1eb0f0-dfe0-440a-d66b-f07bc175515b"
      },
      "execution_count": 23,
      "outputs": [
        {
          "output_type": "stream",
          "name": "stdout",
          "text": [
            "x:tensor([[0.8054, 0.6665, 0.4207, 0.0626, 0.4121],\n",
            "        [0.5063, 0.5548, 0.4040, 0.0063, 0.5622],\n",
            "        [0.5230, 0.5773, 0.5498, 0.2516, 0.1702],\n",
            "        [0.1450, 0.0741, 0.8102, 0.1625, 0.9469],\n",
            "        [0.5757, 0.5565, 0.9443, 0.0965, 0.8013]])\n",
            "y:tensor([[0.8054, 0.6665],\n",
            "        [0.5063, 0.5548],\n",
            "        [0.5230, 0.5773],\n",
            "        [0.1450, 0.0741],\n",
            "        [0.5757, 0.5565]])\n",
            "z:0.006268143653869629\n",
            "Actual value : 0.006268143653869629\n"
          ]
        }
      ]
    },
    {
      "cell_type": "code",
      "source": [
        "import numpy as np"
      ],
      "metadata": {
        "id": "QAIwqhMvZ5Hj"
      },
      "execution_count": 24,
      "outputs": []
    },
    {
      "cell_type": "code",
      "source": [
        "x=torch.ones(3,4)\n",
        "y=x.numpy()\n",
        "print(f\"x:{x}\")\n",
        "print(type(x))\n",
        "print(f\"y:{y}\")\n",
        "print(type(y))"
      ],
      "metadata": {
        "colab": {
          "base_uri": "https://localhost:8080/"
        },
        "id": "nWEQUGGtbBo6",
        "outputId": "fa946242-ffd9-4be4-f81b-ce7fba8e7a83"
      },
      "execution_count": 26,
      "outputs": [
        {
          "output_type": "stream",
          "name": "stdout",
          "text": [
            "x:tensor([[1., 1., 1., 1.],\n",
            "        [1., 1., 1., 1.],\n",
            "        [1., 1., 1., 1.]])\n",
            "<class 'torch.Tensor'>\n",
            "y:[[1. 1. 1. 1.]\n",
            " [1. 1. 1. 1.]\n",
            " [1. 1. 1. 1.]]\n",
            "<class 'numpy.ndarray'>\n"
          ]
        }
      ]
    },
    {
      "cell_type": "code",
      "source": [
        "x.add_(1)\n",
        "print(f\"x:{x}\")\n",
        "print(f\"y:{y}\")"
      ],
      "metadata": {
        "colab": {
          "base_uri": "https://localhost:8080/"
        },
        "id": "mIN8prtzbT1o",
        "outputId": "0bc99739-d823-40c9-d1b1-15809e6ea8d9"
      },
      "execution_count": 27,
      "outputs": [
        {
          "output_type": "stream",
          "name": "stdout",
          "text": [
            "x:tensor([[2., 2., 2., 2.],\n",
            "        [2., 2., 2., 2.],\n",
            "        [2., 2., 2., 2.]])\n",
            "y:[[2. 2. 2. 2.]\n",
            " [2. 2. 2. 2.]\n",
            " [2. 2. 2. 2.]]\n"
          ]
        }
      ]
    },
    {
      "cell_type": "markdown",
      "source": [
        "Changing x also resulted in change in y since y is a numpy array of x . It is because they share the same memory location"
      ],
      "metadata": {
        "id": "uHPESMK8b1iu"
      }
    },
    {
      "cell_type": "code",
      "source": [],
      "metadata": {
        "id": "osxy5NP5bx3l"
      },
      "execution_count": null,
      "outputs": []
    }
  ]
}