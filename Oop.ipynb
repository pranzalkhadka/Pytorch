{
  "nbformat": 4,
  "nbformat_minor": 0,
  "metadata": {
    "colab": {
      "provenance": []
    },
    "kernelspec": {
      "name": "python3",
      "display_name": "Python 3"
    },
    "language_info": {
      "name": "python"
    }
  },
  "cells": [
    {
      "cell_type": "code",
      "execution_count": 13,
      "metadata": {
        "id": "TuJ3Ur1jXZlG"
      },
      "outputs": [],
      "source": [
        "class Dog:\n",
        "  def __init__(self,name):\n",
        "    self.name = name\n",
        "\n",
        "  def set_name(self,name):\n",
        "     self.name = name "
      ]
    },
    {
      "cell_type": "code",
      "source": [
        "my_dog = Dog('Tommy')"
      ],
      "metadata": {
        "id": "PHJskG5iXtKW"
      },
      "execution_count": 14,
      "outputs": []
    },
    {
      "cell_type": "code",
      "source": [
        "print(my_dog.name)"
      ],
      "metadata": {
        "colab": {
          "base_uri": "https://localhost:8080/"
        },
        "id": "nDmK2TEuYEWX",
        "outputId": "01c0c916-a33f-4d01-dd84-2ef1923db5cb"
      },
      "execution_count": 15,
      "outputs": [
        {
          "output_type": "stream",
          "name": "stdout",
          "text": [
            "Tommy\n"
          ]
        }
      ]
    },
    {
      "cell_type": "code",
      "source": [
        "my_dog.set_name('Bruno')"
      ],
      "metadata": {
        "id": "bLFKUU9eYbet"
      },
      "execution_count": 16,
      "outputs": []
    },
    {
      "cell_type": "code",
      "source": [
        "print(my_dog.name)"
      ],
      "metadata": {
        "colab": {
          "base_uri": "https://localhost:8080/"
        },
        "id": "Exq4zjuCYgvu",
        "outputId": "8e0c0052-352d-45e1-cd9b-6adb33e669c4"
      },
      "execution_count": 17,
      "outputs": [
        {
          "output_type": "stream",
          "name": "stdout",
          "text": [
            "Bruno\n"
          ]
        }
      ]
    },
    {
      "cell_type": "code",
      "source": [],
      "metadata": {
        "id": "ndaNdJctYs8-"
      },
      "execution_count": null,
      "outputs": []
    }
  ]
}