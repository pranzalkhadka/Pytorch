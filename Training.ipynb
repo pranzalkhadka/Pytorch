{
  "nbformat": 4,
  "nbformat_minor": 0,
  "metadata": {
    "colab": {
      "provenance": []
    },
    "kernelspec": {
      "name": "python3",
      "display_name": "Python 3"
    },
    "language_info": {
      "name": "python"
    }
  },
  "cells": [
    {
      "cell_type": "code",
      "execution_count": 19,
      "metadata": {
        "id": "s29sjCgHaEgk"
      },
      "outputs": [],
      "source": [
        "import torch\n",
        "import torch.nn as nn\n",
        "import torch.nn.functional as F\n",
        "import torch.optim as optim\n",
        "import torchvision\n",
        "import torchvision.transforms as transforms\n",
        "torch.set_printoptions(linewidth=120)"
      ]
    },
    {
      "cell_type": "code",
      "source": [
        "def get_num_correct(preds,labels):\n",
        "  return preds.argmax(dim=1).eq(labels).sum().item()"
      ],
      "metadata": {
        "id": "Kb4euxlJalqV"
      },
      "execution_count": 20,
      "outputs": []
    },
    {
      "cell_type": "code",
      "source": [
        "class Network(nn.Module):\n",
        "  def __init__(self):\n",
        "    super().__init__()\n",
        "    self.conv1 = nn.Conv2d(in_channels=1,out_channels=6,kernel_size=5)\n",
        "    self.conv2 = nn.Conv2d(in_channels=6,out_channels=12,kernel_size=5)\n",
        "    self.fc1 = nn.Linear(in_features=12*4*4,out_features=120)\n",
        "    self.fc2 = nn.Linear(in_features=120,out_features=60)\n",
        "    self.out = nn.Linear(in_features=60,out_features=10)\n",
        "\n",
        "  def forward(self,t):\n",
        "    t=self.conv1(t)\n",
        "    t=F.relu(t)\n",
        "    t=F.max_pool2d(t,kernel_size=2,stride=2)\n",
        "\n",
        "    t=self.conv2(t)\n",
        "    t=F.relu(t)\n",
        "    t=F.max_pool2d(t,kernel_size=2,stride=2)\n",
        "\n",
        "    t=t.reshape(-1,12*4*4)\n",
        "\n",
        "    t=self.fc1(t)\n",
        "    t=F.relu(t)\n",
        "\n",
        "    t=self.fc2(t)\n",
        "    t=F.relu(t)\n",
        "\n",
        "    t=self.out(t)\n",
        "\n",
        "    return t"
      ],
      "metadata": {
        "id": "ag2aJm6LbHF1"
      },
      "execution_count": 21,
      "outputs": []
    },
    {
      "cell_type": "code",
      "source": [
        "train_set = torchvision.datasets.FashionMNIST(\n",
        "    root='./data/FashionMNIST',\n",
        "    train=True,\n",
        "    download=True,\n",
        "    transform=transforms.Compose([\n",
        "        transforms.ToTensor()\n",
        "    ])\n",
        ")"
      ],
      "metadata": {
        "id": "o-niys_HbSyi"
      },
      "execution_count": 22,
      "outputs": []
    },
    {
      "cell_type": "code",
      "source": [
        "mynetwork = Network()"
      ],
      "metadata": {
        "id": "HwdbGY9obbeh"
      },
      "execution_count": 23,
      "outputs": []
    },
    {
      "cell_type": "code",
      "source": [
        "train_loader = torch.utils.data.DataLoader(train_set,batch_size=100)\n",
        "batch = next(iter(train_loader))\n",
        "images,labels = batch"
      ],
      "metadata": {
        "id": "8EIrC1rwbf4y"
      },
      "execution_count": 24,
      "outputs": []
    },
    {
      "cell_type": "code",
      "source": [
        "preds = mynetwork(images)\n",
        "loss = F.cross_entropy(preds,labels)\n",
        "loss.item()"
      ],
      "metadata": {
        "colab": {
          "base_uri": "https://localhost:8080/"
        },
        "id": "wqRTLSH1bzIU",
        "outputId": "6a504603-c799-4c65-b991-028f3d5b00af"
      },
      "execution_count": 25,
      "outputs": [
        {
          "output_type": "execute_result",
          "data": {
            "text/plain": [
              "2.316528797149658"
            ]
          },
          "metadata": {},
          "execution_count": 25
        }
      ]
    },
    {
      "cell_type": "code",
      "source": [
        "print(mynetwork.conv1.weight.grad)"
      ],
      "metadata": {
        "colab": {
          "base_uri": "https://localhost:8080/"
        },
        "id": "lrh0yp6qcJQ8",
        "outputId": "d1b558f5-2095-45f8-c1b6-b441f3318151"
      },
      "execution_count": 26,
      "outputs": [
        {
          "output_type": "stream",
          "name": "stdout",
          "text": [
            "None\n"
          ]
        }
      ]
    },
    {
      "cell_type": "markdown",
      "source": [
        "Now lets apply back propagation"
      ],
      "metadata": {
        "id": "b-FtoXzSdBBG"
      }
    },
    {
      "cell_type": "code",
      "source": [
        "loss.backward()"
      ],
      "metadata": {
        "id": "ZU0rp3pHczL_"
      },
      "execution_count": 27,
      "outputs": []
    },
    {
      "cell_type": "code",
      "source": [
        "mynetwork.conv1.weight.grad.shape"
      ],
      "metadata": {
        "colab": {
          "base_uri": "https://localhost:8080/"
        },
        "id": "WJQMDiRYc15v",
        "outputId": "3651f744-11fd-491b-961a-27b26c6255b3"
      },
      "execution_count": 28,
      "outputs": [
        {
          "output_type": "execute_result",
          "data": {
            "text/plain": [
              "torch.Size([6, 1, 5, 5])"
            ]
          },
          "metadata": {},
          "execution_count": 28
        }
      ]
    },
    {
      "cell_type": "markdown",
      "source": [
        "Lets update the weights now"
      ],
      "metadata": {
        "id": "XdMvC29BdYgK"
      }
    },
    {
      "cell_type": "code",
      "source": [
        "optimizer = optim.Adam(mynetwork.parameters(),lr=0.01)"
      ],
      "metadata": {
        "id": "b-jEK0dFc7Dr"
      },
      "execution_count": 29,
      "outputs": []
    },
    {
      "cell_type": "markdown",
      "source": [
        "The network parameters are just the network weights"
      ],
      "metadata": {
        "id": "p4CkqYt4eohf"
      }
    },
    {
      "cell_type": "code",
      "source": [
        "get_num_correct(preds,labels)"
      ],
      "metadata": {
        "colab": {
          "base_uri": "https://localhost:8080/"
        },
        "id": "2cyLFmM3dmbk",
        "outputId": "6db4c1ec-a499-4084-96d1-4b013d396917"
      },
      "execution_count": 30,
      "outputs": [
        {
          "output_type": "execute_result",
          "data": {
            "text/plain": [
              "4"
            ]
          },
          "metadata": {},
          "execution_count": 30
        }
      ]
    },
    {
      "cell_type": "markdown",
      "source": [
        "This is just a guess prediction where 5 out of 100 was found to be correct"
      ],
      "metadata": {
        "id": "I5Ps_qVgd7h8"
      }
    },
    {
      "cell_type": "code",
      "source": [
        "optimizer.step()"
      ],
      "metadata": {
        "id": "kWZT8JWidsxc"
      },
      "execution_count": 31,
      "outputs": []
    },
    {
      "cell_type": "code",
      "source": [
        "preds = mynetwork(images)\n",
        "loss = F.cross_entropy(preds,labels)\n",
        "loss.item()"
      ],
      "metadata": {
        "colab": {
          "base_uri": "https://localhost:8080/"
        },
        "id": "GMp-v5CzdxM1",
        "outputId": "7e876589-1de0-4ea3-c7c6-28cbf1982227"
      },
      "execution_count": 32,
      "outputs": [
        {
          "output_type": "execute_result",
          "data": {
            "text/plain": [
              "2.2883553504943848"
            ]
          },
          "metadata": {},
          "execution_count": 32
        }
      ]
    },
    {
      "cell_type": "markdown",
      "source": [
        "The loss has been lowered"
      ],
      "metadata": {
        "id": "SeGE3oqReMIZ"
      }
    },
    {
      "cell_type": "code",
      "source": [
        "get_num_correct(preds,labels)"
      ],
      "metadata": {
        "colab": {
          "base_uri": "https://localhost:8080/"
        },
        "id": "W1Gqr9V6d1wt",
        "outputId": "05ec617f-2ef4-4333-8ce3-efd60697d1cd"
      },
      "execution_count": 33,
      "outputs": [
        {
          "output_type": "execute_result",
          "data": {
            "text/plain": [
              "15"
            ]
          },
          "metadata": {},
          "execution_count": 33
        }
      ]
    },
    {
      "cell_type": "markdown",
      "source": [
        "Number of correct prediction also increased"
      ],
      "metadata": {
        "id": "5SGnQwYVePP6"
      }
    },
    {
      "cell_type": "markdown",
      "source": [
        "Lets now loop over training process to cover entire batch"
      ],
      "metadata": {
        "id": "kMiqy5qzqTP0"
      }
    },
    {
      "cell_type": "code",
      "source": [
        "network = Network()\n",
        "\n",
        "train_loader = torch.utils.data.DataLoader(train_set,batch_size=100)\n",
        "\n",
        "optimizer = optim.Adam(network.parameters(),lr=0.01)\n",
        "\n",
        "\n",
        "total_loss = 0\n",
        "total_correct = 0\n",
        "\n",
        "for batch in train_loader:\n",
        "  images,labels = batch\n",
        "\n",
        "  preds = network(images)\n",
        "  loss = F.cross_entropy(preds,labels)\n",
        "\n",
        "  optimizer.zero_grad()\n",
        "  loss.backward()\n",
        "  optimizer.step()\n",
        "\n",
        "  total_loss += loss.item()\n",
        "  total_correct += get_num_correct(preds,labels)\n",
        "\n",
        "print(\"epoch:\",0,\"total_correct:\",total_correct,\"loss:\",total_loss)  "
      ],
      "metadata": {
        "id": "2CxtExOreIba",
        "colab": {
          "base_uri": "https://localhost:8080/"
        },
        "outputId": "17b7ea7b-0bf0-42e4-d7c1-85b6da697f47"
      },
      "execution_count": 40,
      "outputs": [
        {
          "output_type": "stream",
          "name": "stdout",
          "text": [
            "epoch: 0 total_correct: 47559 loss: 327.6630711257458\n"
          ]
        }
      ]
    },
    {
      "cell_type": "code",
      "source": [
        "accuracy = (total_correct/len(train_set))*100\n",
        "print(accuracy)"
      ],
      "metadata": {
        "colab": {
          "base_uri": "https://localhost:8080/"
        },
        "id": "-KMMm8xKqtQY",
        "outputId": "b26d37a2-9639-4294-e93c-03137d7c1345"
      },
      "execution_count": 41,
      "outputs": [
        {
          "output_type": "stream",
          "name": "stdout",
          "text": [
            "79.265\n"
          ]
        }
      ]
    },
    {
      "cell_type": "markdown",
      "source": [
        "We got an accuracy of 79% for 1st epoch"
      ],
      "metadata": {
        "id": "d1xXJH_rtB4G"
      }
    },
    {
      "cell_type": "markdown",
      "source": [
        "Now lets train for multiple epochs"
      ],
      "metadata": {
        "id": "irCztM2Lvzs9"
      }
    },
    {
      "cell_type": "code",
      "source": [
        "network = Network()\n",
        "\n",
        "train_loader = torch.utils.data.DataLoader(train_set,batch_size=100)\n",
        "\n",
        "optimizer = optim.Adam(network.parameters(),lr=0.01)\n",
        "\n",
        "for epoch in range(5):\n",
        "  total_loss = 0\n",
        "  total_correct = 0\n",
        "\n",
        "  for batch in train_loader:\n",
        "    images,labels = batch\n",
        "\n",
        "    preds = network(images)\n",
        "    loss = F.cross_entropy(preds,labels)\n",
        "\n",
        "    optimizer.zero_grad()\n",
        "    loss.backward()\n",
        "    optimizer.step()\n",
        "\n",
        "    total_loss += loss.item()\n",
        "    total_correct += get_num_correct(preds,labels)\n",
        "\n",
        "  print(\"epoch:\",epoch,\"total_correct:\",total_correct,\"loss:\",total_loss)  \n"
      ],
      "metadata": {
        "colab": {
          "base_uri": "https://localhost:8080/"
        },
        "id": "WbeTWz_nsLbR",
        "outputId": "5609aa69-1453-466c-996f-5e134e2830e5"
      },
      "execution_count": 42,
      "outputs": [
        {
          "output_type": "stream",
          "name": "stdout",
          "text": [
            "epoch: 0 total_correct: 47714 loss: 325.41009621322155\n",
            "epoch: 1 total_correct: 51590 loss: 226.20172734558582\n",
            "epoch: 2 total_correct: 52205 loss: 207.66187973320484\n",
            "epoch: 3 total_correct: 52531 loss: 200.37564292550087\n",
            "epoch: 4 total_correct: 52729 loss: 193.84976820647717\n"
          ]
        }
      ]
    },
    {
      "cell_type": "code",
      "source": [
        "accuracy = (total_correct/len(train_set))*100\n",
        "print(f\"Accuracy:{accuracy}\")"
      ],
      "metadata": {
        "colab": {
          "base_uri": "https://localhost:8080/"
        },
        "id": "Gd2K8KDqwfOI",
        "outputId": "7e2ef8f8-589a-4bc6-dce1-08dbfc42a36e"
      },
      "execution_count": 44,
      "outputs": [
        {
          "output_type": "stream",
          "name": "stdout",
          "text": [
            "Accuracy:87.88166666666667\n"
          ]
        }
      ]
    },
    {
      "cell_type": "markdown",
      "source": [
        "We got a really good accuracy over just 5 epochs"
      ],
      "metadata": {
        "id": "t3Mho5lnxABs"
      }
    },
    {
      "cell_type": "code",
      "source": [],
      "metadata": {
        "id": "9h-L3wXPw9hY"
      },
      "execution_count": null,
      "outputs": []
    }
  ]
}